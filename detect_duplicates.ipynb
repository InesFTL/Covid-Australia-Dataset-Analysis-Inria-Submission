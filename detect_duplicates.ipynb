{
 "cells": [
  {
   "cell_type": "code",
   "execution_count": 1,
   "metadata": {
    "colab": {
     "base_uri": "https://localhost:8080/",
     "height": 298
    },
    "colab_type": "code",
    "id": "gWWY4yi7eT94",
    "outputId": "c5936959-1a0d-4e0c-b157-fe3bc9c91d73"
   },
   "outputs": [
    {
     "name": "stdout",
     "output_type": "stream",
     "text": [
      "Collecting fuzzywuzzy\n",
      "  Downloading https://files.pythonhosted.org/packages/43/ff/74f23998ad2f93b945c0309f825be92e04e0348e062026998b5eefef4c33/fuzzywuzzy-0.18.0-py2.py3-none-any.whl\n",
      "Installing collected packages: fuzzywuzzy\n",
      "Successfully installed fuzzywuzzy-0.18.0\n",
      "Collecting python-Levenshtein\n",
      "\u001b[?25l  Downloading https://files.pythonhosted.org/packages/42/a9/d1785c85ebf9b7dfacd08938dd028209c34a0ea3b1bcdb895208bd40a67d/python-Levenshtein-0.12.0.tar.gz (48kB)\n",
      "\u001b[K     |████████████████████████████████| 51kB 1.7MB/s \n",
      "\u001b[?25hRequirement already satisfied: setuptools in /usr/local/lib/python3.6/dist-packages (from python-Levenshtein) (50.3.0)\n",
      "Building wheels for collected packages: python-Levenshtein\n",
      "  Building wheel for python-Levenshtein (setup.py) ... \u001b[?25l\u001b[?25hdone\n",
      "  Created wheel for python-Levenshtein: filename=python_Levenshtein-0.12.0-cp36-cp36m-linux_x86_64.whl size=144791 sha256=46e7ff6d85c4e013ea0d2211fdbc265686fae766af380aff6075330bb25e4fdb\n",
      "  Stored in directory: /root/.cache/pip/wheels/de/c2/93/660fd5f7559049268ad2dc6d81c4e39e9e36518766eaf7e342\n",
      "Successfully built python-Levenshtein\n",
      "Installing collected packages: python-Levenshtein\n",
      "Successfully installed python-Levenshtein-0.12.0\n"
     ]
    }
   ],
   "source": [
    "!pip install fuzzywuzzy \n",
    "!pip install  python-Levenshtein"
   ]
  },
  {
   "cell_type": "code",
   "execution_count": 2,
   "metadata": {
    "colab": {},
    "colab_type": "code",
    "id": "qnJrqlnRb4vx"
   },
   "outputs": [],
   "source": [
    "#This notebook presents the final result with detecting the duplicates\n",
    "#and returning the percentage of dupes and the clean  dataframe \n",
    "from fuzzywuzzy import fuzz\n",
    "import pandas as pd\n",
    "import time"
   ]
  },
  {
   "cell_type": "code",
   "execution_count": 3,
   "metadata": {
    "colab": {},
    "colab_type": "code",
    "id": "SqWJdzRuc9ri"
   },
   "outputs": [],
   "source": [
    "def detect_duplicates(df):\n",
    "    \n",
    "    \"\"\"Return the cleaned dataframe from duplicates and the percentage of duplicates\n",
    "    found\n",
    "    :param1 : the dataframe\n",
    "    \"\"\"\n",
    "    #The three criteria we choose to detect a duplicate\n",
    "    df1=df[\"given_name\"] \n",
    "    df2=df[\"surname\"]\n",
    "    df3=df[\"phone_number\"]\n",
    "    #A list containing the row index of the duplicates\n",
    "    dup_idx = []\n",
    "    #Copy of the dataframe so we can compare it to the original\n",
    "    df_clear=df.copy()\n",
    "  \n",
    "\n",
    "    for i in range(len(df1.values)-1):\n",
    "        \n",
    "        for j in range(i+1,len(df1.values)):\n",
    "            \n",
    "            if fuzz.token_sort_ratio(df1.values[i], df1.values[j]) >= 75 and fuzz.token_sort_ratio(df2.values[i], df2.values[j]) >= 75 and  df3.values[i]==df3.values[j]:\n",
    "                \n",
    "                dup_idx.append(df1.index[j])\n",
    "\n",
    "    df_clear = df.drop(df.index[dup_idx])\n",
    "    percentage = round((len(dup_idx)/len(df))*100,2)\n",
    "   \n",
    "      \n",
    "    return  percentage,df_clear"
   ]
  },
  {
   "cell_type": "code",
   "execution_count": 5,
   "metadata": {
    "colab": {
     "base_uri": "https://localhost:8080/",
     "height": 424
    },
    "colab_type": "code",
    "id": "V6yL2oE1eBHz",
    "outputId": "d96563bd-8fde-47e3-e2d1-40a984eb790b"
   },
   "outputs": [
    {
     "data": {
      "text/html": [
       "<div>\n",
       "<style scoped>\n",
       "    .dataframe tbody tr th:only-of-type {\n",
       "        vertical-align: middle;\n",
       "    }\n",
       "\n",
       "    .dataframe tbody tr th {\n",
       "        vertical-align: top;\n",
       "    }\n",
       "\n",
       "    .dataframe thead th {\n",
       "        text-align: right;\n",
       "    }\n",
       "</style>\n",
       "<table border=\"1\" class=\"dataframe\">\n",
       "  <thead>\n",
       "    <tr style=\"text-align: right;\">\n",
       "      <th></th>\n",
       "      <th>patient_id</th>\n",
       "      <th>given_name</th>\n",
       "      <th>surname</th>\n",
       "      <th>street_number</th>\n",
       "      <th>address_1</th>\n",
       "      <th>phone_number</th>\n",
       "      <th>address_2</th>\n",
       "      <th>postcode_updated</th>\n",
       "      <th>state_updated</th>\n",
       "      <th>suburb_updated</th>\n",
       "      <th>dob_updated</th>\n",
       "      <th>age_final</th>\n",
       "    </tr>\n",
       "  </thead>\n",
       "  <tbody>\n",
       "    <tr>\n",
       "      <th>0</th>\n",
       "      <td>221958</td>\n",
       "      <td>matisse</td>\n",
       "      <td>clarke</td>\n",
       "      <td>13.0</td>\n",
       "      <td>rene street</td>\n",
       "      <td>08 86018809</td>\n",
       "      <td>westella</td>\n",
       "      <td>2527</td>\n",
       "      <td>nsw</td>\n",
       "      <td>ellenbrook</td>\n",
       "      <td>1971</td>\n",
       "      <td>49</td>\n",
       "    </tr>\n",
       "    <tr>\n",
       "      <th>1</th>\n",
       "      <td>771155</td>\n",
       "      <td>joshua</td>\n",
       "      <td>elrick</td>\n",
       "      <td>23.0</td>\n",
       "      <td>andrea place</td>\n",
       "      <td>02 97793152</td>\n",
       "      <td>foxdown</td>\n",
       "      <td>2074</td>\n",
       "      <td>nsw</td>\n",
       "      <td>east preston</td>\n",
       "      <td>1912</td>\n",
       "      <td>108</td>\n",
       "    </tr>\n",
       "    <tr>\n",
       "      <th>2</th>\n",
       "      <td>231932</td>\n",
       "      <td>alice</td>\n",
       "      <td>conboy</td>\n",
       "      <td>35.0</td>\n",
       "      <td>mountain circuit</td>\n",
       "      <td>02 20403934</td>\n",
       "      <td>None</td>\n",
       "      <td>2305</td>\n",
       "      <td>nsw</td>\n",
       "      <td>prospect</td>\n",
       "      <td>1981</td>\n",
       "      <td>39</td>\n",
       "    </tr>\n",
       "    <tr>\n",
       "      <th>3</th>\n",
       "      <td>465838</td>\n",
       "      <td>sienna</td>\n",
       "      <td>craswell</td>\n",
       "      <td>39.0</td>\n",
       "      <td>cumberlegeicrescent</td>\n",
       "      <td>02 62832318</td>\n",
       "      <td>jodane</td>\n",
       "      <td>3620</td>\n",
       "      <td>vic</td>\n",
       "      <td>henty</td>\n",
       "      <td>1984</td>\n",
       "      <td>36</td>\n",
       "    </tr>\n",
       "    <tr>\n",
       "      <th>4</th>\n",
       "      <td>359178</td>\n",
       "      <td>joshua</td>\n",
       "      <td>bastiaans</td>\n",
       "      <td>144.0</td>\n",
       "      <td>lowrie street</td>\n",
       "      <td>03 69359594</td>\n",
       "      <td>None</td>\n",
       "      <td>4051</td>\n",
       "      <td>qld</td>\n",
       "      <td>campbell town</td>\n",
       "      <td>1934</td>\n",
       "      <td>86</td>\n",
       "    </tr>\n",
       "    <tr>\n",
       "      <th>...</th>\n",
       "      <td>...</td>\n",
       "      <td>...</td>\n",
       "      <td>...</td>\n",
       "      <td>...</td>\n",
       "      <td>...</td>\n",
       "      <td>...</td>\n",
       "      <td>...</td>\n",
       "      <td>...</td>\n",
       "      <td>...</td>\n",
       "      <td>...</td>\n",
       "      <td>...</td>\n",
       "      <td>...</td>\n",
       "    </tr>\n",
       "    <tr>\n",
       "      <th>19995</th>\n",
       "      <td>368617</td>\n",
       "      <td>abby</td>\n",
       "      <td>None</td>\n",
       "      <td>19.0</td>\n",
       "      <td>john cleland crescent</td>\n",
       "      <td>02 92489054</td>\n",
       "      <td>glenmore</td>\n",
       "      <td>2290</td>\n",
       "      <td>nsw</td>\n",
       "      <td>boyne island</td>\n",
       "      <td>1957</td>\n",
       "      <td>63</td>\n",
       "    </tr>\n",
       "    <tr>\n",
       "      <th>19996</th>\n",
       "      <td>796658</td>\n",
       "      <td>dale</td>\n",
       "      <td>priest</td>\n",
       "      <td>19.0</td>\n",
       "      <td>bellchambers crescent</td>\n",
       "      <td>07 20549476</td>\n",
       "      <td>None</td>\n",
       "      <td>3033</td>\n",
       "      <td>vic</td>\n",
       "      <td>hoppers crossing</td>\n",
       "      <td>1959</td>\n",
       "      <td>61</td>\n",
       "    </tr>\n",
       "    <tr>\n",
       "      <th>19997</th>\n",
       "      <td>511885</td>\n",
       "      <td>alessia</td>\n",
       "      <td>mawlai</td>\n",
       "      <td>4.0</td>\n",
       "      <td>miller street</td>\n",
       "      <td>03 83466737</td>\n",
       "      <td>None</td>\n",
       "      <td>3616</td>\n",
       "      <td>vic</td>\n",
       "      <td>smithfield</td>\n",
       "      <td>1994</td>\n",
       "      <td>26</td>\n",
       "    </tr>\n",
       "    <tr>\n",
       "      <th>19998</th>\n",
       "      <td>985932</td>\n",
       "      <td>hannah</td>\n",
       "      <td>mason</td>\n",
       "      <td>1.0</td>\n",
       "      <td>halligan place</td>\n",
       "      <td>04 41125514</td>\n",
       "      <td>None</td>\n",
       "      <td>2443</td>\n",
       "      <td>nsw</td>\n",
       "      <td>beaumaris</td>\n",
       "      <td>1914</td>\n",
       "      <td>106</td>\n",
       "    </tr>\n",
       "    <tr>\n",
       "      <th>19999</th>\n",
       "      <td>925217</td>\n",
       "      <td>jack</td>\n",
       "      <td>mcveigh</td>\n",
       "      <td>5.0</td>\n",
       "      <td>alinda place</td>\n",
       "      <td>07 52535106</td>\n",
       "      <td>None</td>\n",
       "      <td>4350</td>\n",
       "      <td>qld</td>\n",
       "      <td>thornlands</td>\n",
       "      <td>1923</td>\n",
       "      <td>97</td>\n",
       "    </tr>\n",
       "  </tbody>\n",
       "</table>\n",
       "<p>20000 rows × 12 columns</p>\n",
       "</div>"
      ],
      "text/plain": [
       "       patient_id given_name  ... dob_updated  age_final\n",
       "0          221958    matisse  ...        1971         49\n",
       "1          771155     joshua  ...        1912        108\n",
       "2          231932      alice  ...        1981         39\n",
       "3          465838     sienna  ...        1984         36\n",
       "4          359178     joshua  ...        1934         86\n",
       "...           ...        ...  ...         ...        ...\n",
       "19995      368617       abby  ...        1957         63\n",
       "19996      796658       dale  ...        1959         61\n",
       "19997      511885    alessia  ...        1994         26\n",
       "19998      985932     hannah  ...        1914        106\n",
       "19999      925217       jack  ...        1923         97\n",
       "\n",
       "[20000 rows x 12 columns]"
      ]
     },
     "execution_count": 5,
     "metadata": {
      "tags": []
     },
     "output_type": "execute_result"
    }
   ],
   "source": [
    "#Reading our csv and dataframe\n",
    "\n",
    "df_patient = pd.read_csv(\"df_dedup_clean.csv\")\n",
    "df_patient\n"
   ]
  },
  {
   "cell_type": "code",
   "execution_count": 6,
   "metadata": {
    "colab": {
     "base_uri": "https://localhost:8080/",
     "height": 34
    },
    "colab_type": "code",
    "id": "8K6n9lWAecpZ",
    "outputId": "e201b786-aa9d-41ec-e18d-03b105cb0caf"
   },
   "outputs": [
    {
     "name": "stdout",
     "output_type": "stream",
     "text": [
      "2124.5248811244965\n"
     ]
    }
   ],
   "source": [
    "#Detect and duplicates \n",
    "#We choose the name, surname and phone_number as criteria for detecting the dupes\n",
    "#generally speaking they're the most \"trustworthy\" data and allows to really filter\n",
    "#the persons. \n",
    "\n",
    "start = time.time()\n",
    "pourcentage,df_clear = detect_duplicates(df_patient)\n",
    "end = time.time()\n",
    "print(end - start)"
   ]
  },
  {
   "cell_type": "code",
   "execution_count": 7,
   "metadata": {
    "colab": {
     "base_uri": "https://localhost:8080/",
     "height": 34
    },
    "colab_type": "code",
    "id": "bjBGt7vvpanP",
    "outputId": "5ad173cc-ab11-48ff-d777-377902751a2e"
   },
   "outputs": [
    {
     "name": "stdout",
     "output_type": "stream",
     "text": [
      "Time execution is 35.0 min\n"
     ]
    }
   ],
   "source": [
    "print(\"Time execution is {:.1f} min\".format(round((end - start)/60),1))"
   ]
  },
  {
   "cell_type": "code",
   "execution_count": 8,
   "metadata": {
    "colab": {
     "base_uri": "https://localhost:8080/",
     "height": 34
    },
    "colab_type": "code",
    "id": "tb43tIxHpisT",
    "outputId": "e57b14e1-65d0-4567-d294-5580bc33cd6a"
   },
   "outputs": [
    {
     "name": "stdout",
     "output_type": "stream",
     "text": [
      "Percentage of duplicates is 7.43%\n"
     ]
    }
   ],
   "source": [
    "print(\"Percentage of duplicates is {}%\".format(pourcentage))"
   ]
  },
  {
   "cell_type": "code",
   "execution_count": 9,
   "metadata": {
    "colab": {
     "base_uri": "https://localhost:8080/",
     "height": 424
    },
    "colab_type": "code",
    "id": "aRF1Tv5OqzX9",
    "outputId": "075d928b-ee07-49af-e088-d770c02ba12f"
   },
   "outputs": [
    {
     "data": {
      "text/html": [
       "<div>\n",
       "<style scoped>\n",
       "    .dataframe tbody tr th:only-of-type {\n",
       "        vertical-align: middle;\n",
       "    }\n",
       "\n",
       "    .dataframe tbody tr th {\n",
       "        vertical-align: top;\n",
       "    }\n",
       "\n",
       "    .dataframe thead th {\n",
       "        text-align: right;\n",
       "    }\n",
       "</style>\n",
       "<table border=\"1\" class=\"dataframe\">\n",
       "  <thead>\n",
       "    <tr style=\"text-align: right;\">\n",
       "      <th></th>\n",
       "      <th>patient_id</th>\n",
       "      <th>given_name</th>\n",
       "      <th>surname</th>\n",
       "      <th>street_number</th>\n",
       "      <th>address_1</th>\n",
       "      <th>phone_number</th>\n",
       "      <th>address_2</th>\n",
       "      <th>postcode_updated</th>\n",
       "      <th>state_updated</th>\n",
       "      <th>suburb_updated</th>\n",
       "      <th>dob_updated</th>\n",
       "      <th>age_final</th>\n",
       "    </tr>\n",
       "  </thead>\n",
       "  <tbody>\n",
       "    <tr>\n",
       "      <th>0</th>\n",
       "      <td>221958</td>\n",
       "      <td>matisse</td>\n",
       "      <td>clarke</td>\n",
       "      <td>13.0</td>\n",
       "      <td>rene street</td>\n",
       "      <td>08 86018809</td>\n",
       "      <td>westella</td>\n",
       "      <td>2527</td>\n",
       "      <td>nsw</td>\n",
       "      <td>ellenbrook</td>\n",
       "      <td>1971</td>\n",
       "      <td>49</td>\n",
       "    </tr>\n",
       "    <tr>\n",
       "      <th>1</th>\n",
       "      <td>771155</td>\n",
       "      <td>joshua</td>\n",
       "      <td>elrick</td>\n",
       "      <td>23.0</td>\n",
       "      <td>andrea place</td>\n",
       "      <td>02 97793152</td>\n",
       "      <td>foxdown</td>\n",
       "      <td>2074</td>\n",
       "      <td>nsw</td>\n",
       "      <td>east preston</td>\n",
       "      <td>1912</td>\n",
       "      <td>108</td>\n",
       "    </tr>\n",
       "    <tr>\n",
       "      <th>2</th>\n",
       "      <td>231932</td>\n",
       "      <td>alice</td>\n",
       "      <td>conboy</td>\n",
       "      <td>35.0</td>\n",
       "      <td>mountain circuit</td>\n",
       "      <td>02 20403934</td>\n",
       "      <td>None</td>\n",
       "      <td>2305</td>\n",
       "      <td>nsw</td>\n",
       "      <td>prospect</td>\n",
       "      <td>1981</td>\n",
       "      <td>39</td>\n",
       "    </tr>\n",
       "    <tr>\n",
       "      <th>3</th>\n",
       "      <td>465838</td>\n",
       "      <td>sienna</td>\n",
       "      <td>craswell</td>\n",
       "      <td>39.0</td>\n",
       "      <td>cumberlegeicrescent</td>\n",
       "      <td>02 62832318</td>\n",
       "      <td>jodane</td>\n",
       "      <td>3620</td>\n",
       "      <td>vic</td>\n",
       "      <td>henty</td>\n",
       "      <td>1984</td>\n",
       "      <td>36</td>\n",
       "    </tr>\n",
       "    <tr>\n",
       "      <th>4</th>\n",
       "      <td>359178</td>\n",
       "      <td>joshua</td>\n",
       "      <td>bastiaans</td>\n",
       "      <td>144.0</td>\n",
       "      <td>lowrie street</td>\n",
       "      <td>03 69359594</td>\n",
       "      <td>None</td>\n",
       "      <td>4051</td>\n",
       "      <td>qld</td>\n",
       "      <td>campbell town</td>\n",
       "      <td>1934</td>\n",
       "      <td>86</td>\n",
       "    </tr>\n",
       "    <tr>\n",
       "      <th>...</th>\n",
       "      <td>...</td>\n",
       "      <td>...</td>\n",
       "      <td>...</td>\n",
       "      <td>...</td>\n",
       "      <td>...</td>\n",
       "      <td>...</td>\n",
       "      <td>...</td>\n",
       "      <td>...</td>\n",
       "      <td>...</td>\n",
       "      <td>...</td>\n",
       "      <td>...</td>\n",
       "      <td>...</td>\n",
       "    </tr>\n",
       "    <tr>\n",
       "      <th>19995</th>\n",
       "      <td>368617</td>\n",
       "      <td>abby</td>\n",
       "      <td>None</td>\n",
       "      <td>19.0</td>\n",
       "      <td>john cleland crescent</td>\n",
       "      <td>02 92489054</td>\n",
       "      <td>glenmore</td>\n",
       "      <td>2290</td>\n",
       "      <td>nsw</td>\n",
       "      <td>boyne island</td>\n",
       "      <td>1957</td>\n",
       "      <td>63</td>\n",
       "    </tr>\n",
       "    <tr>\n",
       "      <th>19996</th>\n",
       "      <td>796658</td>\n",
       "      <td>dale</td>\n",
       "      <td>priest</td>\n",
       "      <td>19.0</td>\n",
       "      <td>bellchambers crescent</td>\n",
       "      <td>07 20549476</td>\n",
       "      <td>None</td>\n",
       "      <td>3033</td>\n",
       "      <td>vic</td>\n",
       "      <td>hoppers crossing</td>\n",
       "      <td>1959</td>\n",
       "      <td>61</td>\n",
       "    </tr>\n",
       "    <tr>\n",
       "      <th>19997</th>\n",
       "      <td>511885</td>\n",
       "      <td>alessia</td>\n",
       "      <td>mawlai</td>\n",
       "      <td>4.0</td>\n",
       "      <td>miller street</td>\n",
       "      <td>03 83466737</td>\n",
       "      <td>None</td>\n",
       "      <td>3616</td>\n",
       "      <td>vic</td>\n",
       "      <td>smithfield</td>\n",
       "      <td>1994</td>\n",
       "      <td>26</td>\n",
       "    </tr>\n",
       "    <tr>\n",
       "      <th>19998</th>\n",
       "      <td>985932</td>\n",
       "      <td>hannah</td>\n",
       "      <td>mason</td>\n",
       "      <td>1.0</td>\n",
       "      <td>halligan place</td>\n",
       "      <td>04 41125514</td>\n",
       "      <td>None</td>\n",
       "      <td>2443</td>\n",
       "      <td>nsw</td>\n",
       "      <td>beaumaris</td>\n",
       "      <td>1914</td>\n",
       "      <td>106</td>\n",
       "    </tr>\n",
       "    <tr>\n",
       "      <th>19999</th>\n",
       "      <td>925217</td>\n",
       "      <td>jack</td>\n",
       "      <td>mcveigh</td>\n",
       "      <td>5.0</td>\n",
       "      <td>alinda place</td>\n",
       "      <td>07 52535106</td>\n",
       "      <td>None</td>\n",
       "      <td>4350</td>\n",
       "      <td>qld</td>\n",
       "      <td>thornlands</td>\n",
       "      <td>1923</td>\n",
       "      <td>97</td>\n",
       "    </tr>\n",
       "  </tbody>\n",
       "</table>\n",
       "<p>18955 rows × 12 columns</p>\n",
       "</div>"
      ],
      "text/plain": [
       "       patient_id given_name  ... dob_updated  age_final\n",
       "0          221958    matisse  ...        1971         49\n",
       "1          771155     joshua  ...        1912        108\n",
       "2          231932      alice  ...        1981         39\n",
       "3          465838     sienna  ...        1984         36\n",
       "4          359178     joshua  ...        1934         86\n",
       "...           ...        ...  ...         ...        ...\n",
       "19995      368617       abby  ...        1957         63\n",
       "19996      796658       dale  ...        1959         61\n",
       "19997      511885    alessia  ...        1994         26\n",
       "19998      985932     hannah  ...        1914        106\n",
       "19999      925217       jack  ...        1923         97\n",
       "\n",
       "[18955 rows x 12 columns]"
      ]
     },
     "execution_count": 9,
     "metadata": {
      "tags": []
     },
     "output_type": "execute_result"
    }
   ],
   "source": [
    "#Display new clean dataframe\n",
    "df_clear"
   ]
  },
  {
   "cell_type": "code",
   "execution_count": 10,
   "metadata": {
    "colab": {
     "base_uri": "https://localhost:8080/",
     "height": 34
    },
    "colab_type": "code",
    "id": "2-J4m-Grr0t5",
    "outputId": "4ed71d37-3704-427e-f0f4-e4107657a5d0"
   },
   "outputs": [
    {
     "name": "stdout",
     "output_type": "stream",
     "text": [
      "1045 of rows were deleted\n"
     ]
    }
   ],
   "source": [
    "print(\"{} of rows were deleted\".format(20000-len(df_clear)))"
   ]
  },
  {
   "cell_type": "code",
   "execution_count": 11,
   "metadata": {
    "colab": {},
    "colab_type": "code",
    "id": "_1jysdTJrwgz"
   },
   "outputs": [],
   "source": [
    "#Save the new clean dataframe \n",
    "df_clear.to_csv('df_patient_clear_final_f.csv',index=False)\n"
   ]
  },
  {
   "cell_type": "code",
   "execution_count": 36,
   "metadata": {
    "colab": {},
    "colab_type": "code",
    "id": "sh8A88jfdcCZ"
   },
   "outputs": [],
   "source": [
    "#We define the following test in the test.py file\n",
    "def test_detect_duplicates():\n",
    "\n",
    "    \"\"\"This test function assure that duplicates were removed\n",
    "       We tested it on the file df_patient_dup which contains\n",
    "       all the dupes from the first 10 000 entries of our dataframe\n",
    "\n",
    "    \"\"\"\n",
    "    assert detect_duplicates(df)!=(0,df)\n"
   ]
  },
  {
   "cell_type": "code",
   "execution_count": 33,
   "metadata": {
    "colab": {
     "base_uri": "https://localhost:8080/",
     "height": 173
    },
    "colab_type": "code",
    "id": "PcCmTAKNra19",
    "outputId": "70969a30-62aa-4759-efa7-fdbe32e50b63"
   },
   "outputs": [
    {
     "name": "stdout",
     "output_type": "stream",
     "text": [
      "\u001b[1m============================= test session starts ==============================\u001b[0m\n",
      "platform linux -- Python 3.6.9, pytest-3.6.4, py-1.9.0, pluggy-0.7.1\n",
      "rootdir: /content, inifile:\n",
      "plugins: typeguard-2.7.1\n",
      "collected 1 item                                                               \u001b[0m\n",
      "\n",
      "test.py .\u001b[36m                                                                [100%]\u001b[0m\n",
      "\n",
      "\u001b[32m\u001b[1m=========================== 1 passed in 2.53 seconds ===========================\u001b[0m\n"
     ]
    }
   ],
   "source": [
    "!python -m pytest test.py"
   ]
  },
  {
   "cell_type": "code",
   "execution_count": 38,
   "metadata": {
    "colab": {},
    "colab_type": "code",
    "id": "quoBFZ9WplAf"
   },
   "outputs": [],
   "source": [
    "#These are complementary/optionnal tests\n",
    "import pandas.api.types as ptypes\n",
    "from pandas._testing import assert_frame_equal\n",
    "\n",
    "        \n",
    "def test_verify_dataframe(param1,param2,param3,param4=None):\n",
    "    \n",
    "    \"\"\"Assert that the dataframe given as criteria are Object types \n",
    "    :param param1 : the percentage of duplicates, \n",
    "    :param param2 : the original dataframe\n",
    "    :param param3 : the cleaned dataframe\n",
    "    :param param4 : the expected dataframe (if available)\n",
    "\n",
    "    \"\"\"\n",
    "    \n",
    "  \n",
    "    if param1 !=0:\n",
    "        assert len(param3)<len(param2)\n",
    "    else:\n",
    "        \n",
    "        assert_frame_equal(param3, param2) #if there is no duplicates \n",
    "  \n",
    "    if param4 is not None:\n",
    "        \n",
    "        assert_frame_equal(param4, param3)\n",
    "    \n",
    "\n",
    "\n",
    "def test_verify_dtypes(param1,param2,param3):\n",
    "    \"\"\"Assert that the columns given as criteria are Object types \n",
    "    :param param1 : the dataframe, \n",
    "    :param param2 : the selected criteria column of the dataframe\n",
    "    :param param3 : the selected criteria column of the dataframe\n",
    "\n",
    "    \"\"\"\n",
    "  \n",
    "    assert ptypes.is_string_dtype(param1[param2]) and ptypes.is_string_dtype(param1[param3])\n",
    "  "
   ]
  },
  {
   "cell_type": "code",
   "execution_count": 39,
   "metadata": {
    "colab": {},
    "colab_type": "code",
    "id": "P2wjJ1abr83Y"
   },
   "outputs": [],
   "source": [
    "test_verify_dataframe(pourcentage,df_patient,df_clear,param4=df_clear)\n",
    "test_verify_dtypes(df_patient,\"given_name\",\"surname\")"
   ]
  },
  {
   "cell_type": "code",
   "execution_count": null,
   "metadata": {
    "colab": {},
    "colab_type": "code",
    "id": "CBN3DeVx9raz"
   },
   "outputs": [],
   "source": []
  }
 ],
 "metadata": {
  "colab": {
   "collapsed_sections": [],
   "name": "detect_duplicates.ipynb",
   "provenance": []
  },
  "kernelspec": {
   "display_name": "Python 3",
   "language": "python",
   "name": "python3"
  },
  "language_info": {
   "codemirror_mode": {
    "name": "ipython",
    "version": 3
   },
   "file_extension": ".py",
   "mimetype": "text/x-python",
   "name": "python",
   "nbconvert_exporter": "python",
   "pygments_lexer": "ipython3",
   "version": "3.6.4"
  }
 },
 "nbformat": 4,
 "nbformat_minor": 1
}
