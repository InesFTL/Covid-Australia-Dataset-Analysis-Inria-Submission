{
 "cells": [
  {
   "cell_type": "markdown",
   "metadata": {
    "colab_type": "text",
    "id": "HEi92ZIijkMs"
   },
   "source": [
    "# **Visualisation des données de patients et des données PCR**"
   ]
  },
  {
   "cell_type": "code",
   "execution_count": 175,
   "metadata": {
    "colab": {},
    "colab_type": "code",
    "id": "7Xcc7_HBC-jg"
   },
   "outputs": [],
   "source": [
    "import pandas as pd\n",
    "import seaborn as sns\n",
    "import matplotlib.pyplot as plt\n"
   ]
  },
  {
   "cell_type": "code",
   "execution_count": 156,
   "metadata": {
    "colab": {},
    "colab_type": "code",
    "id": "jv4bZN2mpAzE"
   },
   "outputs": [],
   "source": [
    "\"\"\"\n",
    "df_patient = pd.read_csv(\"df_patient_clear_final_f.csv\")\n",
    "\n",
    "df_pcr = pd.read_csv(\"df_pcr_clean_final.csv\")\n",
    "\n",
    "#Merge two dataframe based on the patient ID key\n",
    "df_patient_pcr = pd.merge(df_pcr,df_patient,on=\"patient_id\",how=\"inner\")\n",
    "#We want only the patient who were tested, so we only keep rows where the patient id value exists in both pcr and\n",
    "#patient dataframe\n",
    "#Export dataframe to csv\n",
    "df_patient_pcr.to_csv('df_patient_pcr_clean.csv',index=False)\n",
    "\"\"\""
   ]
  },
  {
   "cell_type": "code",
   "execution_count": 157,
   "metadata": {
    "colab": {
     "base_uri": "https://localhost:8080/",
     "height": 548
    },
    "colab_type": "code",
    "id": "iJrmCMdODIdn",
    "outputId": "cc600175-bf3e-42eb-d562-b6f6c2c489a8"
   },
   "outputs": [
    {
     "data": {
      "text/html": [
       "<div>\n",
       "<style scoped>\n",
       "    .dataframe tbody tr th:only-of-type {\n",
       "        vertical-align: middle;\n",
       "    }\n",
       "\n",
       "    .dataframe tbody tr th {\n",
       "        vertical-align: top;\n",
       "    }\n",
       "\n",
       "    .dataframe thead th {\n",
       "        text-align: right;\n",
       "    }\n",
       "</style>\n",
       "<table border=\"1\" class=\"dataframe\">\n",
       "  <thead>\n",
       "    <tr style=\"text-align: right;\">\n",
       "      <th></th>\n",
       "      <th>patient_id</th>\n",
       "      <th>pcr</th>\n",
       "      <th>given_name</th>\n",
       "      <th>surname</th>\n",
       "      <th>street_number</th>\n",
       "      <th>address_1</th>\n",
       "      <th>phone_number</th>\n",
       "      <th>address_2</th>\n",
       "      <th>postcode_updated</th>\n",
       "      <th>state_updated</th>\n",
       "      <th>suburb_updated</th>\n",
       "      <th>dob_updated</th>\n",
       "      <th>age_final</th>\n",
       "    </tr>\n",
       "  </thead>\n",
       "  <tbody>\n",
       "    <tr>\n",
       "      <th>0</th>\n",
       "      <td>653091</td>\n",
       "      <td>False</td>\n",
       "      <td>daniel</td>\n",
       "      <td>campbell</td>\n",
       "      <td>58.0</td>\n",
       "      <td>sid barnes crescent</td>\n",
       "      <td>08 38772117</td>\n",
       "      <td>None</td>\n",
       "      <td>4514</td>\n",
       "      <td>qld</td>\n",
       "      <td>north ward</td>\n",
       "      <td>1973</td>\n",
       "      <td>47</td>\n",
       "    </tr>\n",
       "    <tr>\n",
       "      <th>1</th>\n",
       "      <td>347667</td>\n",
       "      <td>False</td>\n",
       "      <td>sebastian</td>\n",
       "      <td>mchenry</td>\n",
       "      <td>12.0</td>\n",
       "      <td>mundawari circuit</td>\n",
       "      <td>08 61083524</td>\n",
       "      <td>ocean star villas</td>\n",
       "      <td>4551</td>\n",
       "      <td>qld</td>\n",
       "      <td>swan view</td>\n",
       "      <td>1990</td>\n",
       "      <td>30</td>\n",
       "    </tr>\n",
       "    <tr>\n",
       "      <th>2</th>\n",
       "      <td>708481</td>\n",
       "      <td>True</td>\n",
       "      <td>sarah</td>\n",
       "      <td>rellos</td>\n",
       "      <td>20.0</td>\n",
       "      <td>torres street</td>\n",
       "      <td>02 73197286</td>\n",
       "      <td>None</td>\n",
       "      <td>3199</td>\n",
       "      <td>vic</td>\n",
       "      <td>bribie island</td>\n",
       "      <td>1943</td>\n",
       "      <td>77</td>\n",
       "    </tr>\n",
       "    <tr>\n",
       "      <th>3</th>\n",
       "      <td>148825</td>\n",
       "      <td>False</td>\n",
       "      <td>chloe</td>\n",
       "      <td>brammy</td>\n",
       "      <td>238.0</td>\n",
       "      <td>fitchett street</td>\n",
       "      <td>02 48826642</td>\n",
       "      <td>None</td>\n",
       "      <td>3280</td>\n",
       "      <td>vic</td>\n",
       "      <td>carnegie</td>\n",
       "      <td>1954</td>\n",
       "      <td>66</td>\n",
       "    </tr>\n",
       "    <tr>\n",
       "      <th>4</th>\n",
       "      <td>150081</td>\n",
       "      <td>False</td>\n",
       "      <td>charlie</td>\n",
       "      <td>None</td>\n",
       "      <td>6.0</td>\n",
       "      <td>clark close</td>\n",
       "      <td>03 24096098</td>\n",
       "      <td>talawa</td>\n",
       "      <td>2602</td>\n",
       "      <td>act</td>\n",
       "      <td>south melbourne</td>\n",
       "      <td>1975</td>\n",
       "      <td>45</td>\n",
       "    </tr>\n",
       "    <tr>\n",
       "      <th>...</th>\n",
       "      <td>...</td>\n",
       "      <td>...</td>\n",
       "      <td>...</td>\n",
       "      <td>...</td>\n",
       "      <td>...</td>\n",
       "      <td>...</td>\n",
       "      <td>...</td>\n",
       "      <td>...</td>\n",
       "      <td>...</td>\n",
       "      <td>...</td>\n",
       "      <td>...</td>\n",
       "      <td>...</td>\n",
       "      <td>...</td>\n",
       "    </tr>\n",
       "    <tr>\n",
       "      <th>8445</th>\n",
       "      <td>249457</td>\n",
       "      <td>False</td>\n",
       "      <td>tiffany</td>\n",
       "      <td>loulps</td>\n",
       "      <td>31.0</td>\n",
       "      <td>leal place</td>\n",
       "      <td>0</td>\n",
       "      <td>pangani</td>\n",
       "      <td>4670</td>\n",
       "      <td>qld</td>\n",
       "      <td>forest hill</td>\n",
       "      <td>1976</td>\n",
       "      <td>44</td>\n",
       "    </tr>\n",
       "    <tr>\n",
       "      <th>8446</th>\n",
       "      <td>279689</td>\n",
       "      <td>True</td>\n",
       "      <td>daniel</td>\n",
       "      <td>excell</td>\n",
       "      <td>58.0</td>\n",
       "      <td>ratcliffe crescent</td>\n",
       "      <td>02 19648886</td>\n",
       "      <td>None</td>\n",
       "      <td>2170</td>\n",
       "      <td>nsw</td>\n",
       "      <td>lamb island</td>\n",
       "      <td>1984</td>\n",
       "      <td>36</td>\n",
       "    </tr>\n",
       "    <tr>\n",
       "      <th>8447</th>\n",
       "      <td>975612</td>\n",
       "      <td>False</td>\n",
       "      <td>jessica</td>\n",
       "      <td>nguyen</td>\n",
       "      <td>10.0</td>\n",
       "      <td>orion place</td>\n",
       "      <td>07 63878836</td>\n",
       "      <td>silverpoint</td>\n",
       "      <td>3429</td>\n",
       "      <td>vic</td>\n",
       "      <td>beecroft</td>\n",
       "      <td>1909</td>\n",
       "      <td>111</td>\n",
       "    </tr>\n",
       "    <tr>\n",
       "      <th>8448</th>\n",
       "      <td>884429</td>\n",
       "      <td>True</td>\n",
       "      <td>chelsea</td>\n",
       "      <td>coltman</td>\n",
       "      <td>34.0</td>\n",
       "      <td>pitcairn street</td>\n",
       "      <td>04 68103123</td>\n",
       "      <td>waratana</td>\n",
       "      <td>3224</td>\n",
       "      <td>vic</td>\n",
       "      <td>manly vale</td>\n",
       "      <td>1993</td>\n",
       "      <td>27</td>\n",
       "    </tr>\n",
       "    <tr>\n",
       "      <th>8449</th>\n",
       "      <td>272409</td>\n",
       "      <td>False</td>\n",
       "      <td>laura</td>\n",
       "      <td>maynard</td>\n",
       "      <td>40.0</td>\n",
       "      <td>sturgeon street</td>\n",
       "      <td>07 31607552</td>\n",
       "      <td>villa 5</td>\n",
       "      <td>5244</td>\n",
       "      <td>sa</td>\n",
       "      <td>baxter</td>\n",
       "      <td>1918</td>\n",
       "      <td>102</td>\n",
       "    </tr>\n",
       "  </tbody>\n",
       "</table>\n",
       "<p>8450 rows × 13 columns</p>\n",
       "</div>"
      ],
      "text/plain": [
       "      patient_id    pcr given_name  ...   suburb_updated  dob_updated age_final\n",
       "0         653091  False     daniel  ...       north ward         1973        47\n",
       "1         347667  False  sebastian  ...        swan view         1990        30\n",
       "2         708481   True      sarah  ...    bribie island         1943        77\n",
       "3         148825  False      chloe  ...         carnegie         1954        66\n",
       "4         150081  False    charlie  ...  south melbourne         1975        45\n",
       "...          ...    ...        ...  ...              ...          ...       ...\n",
       "8445      249457  False    tiffany  ...      forest hill         1976        44\n",
       "8446      279689   True     daniel  ...      lamb island         1984        36\n",
       "8447      975612  False    jessica  ...         beecroft         1909       111\n",
       "8448      884429   True    chelsea  ...       manly vale         1993        27\n",
       "8449      272409  False      laura  ...           baxter         1918       102\n",
       "\n",
       "[8450 rows x 13 columns]"
      ]
     },
     "execution_count": 157,
     "metadata": {
      "tags": []
     },
     "output_type": "execute_result"
    }
   ],
   "source": [
    "df = pd.read_csv(\"df_patient_pcr_clean.csv\")\n",
    "df\n",
    "\n"
   ]
  },
  {
   "cell_type": "markdown",
   "metadata": {
    "colab_type": "text",
    "id": "_53TP2ONQA1B"
   },
   "source": [
    "## Prévalence de cas positif au sein des états australiens\n",
    "\n",
    "\n",
    "\n",
    "\n"
   ]
  },
  {
   "cell_type": "code",
   "execution_count": 158,
   "metadata": {
    "colab": {},
    "colab_type": "code",
    "id": "fhIKOOpZZdt5"
   },
   "outputs": [],
   "source": [
    "#Query patients who where tested positively\n",
    "cases = df.query('pcr == True')\n"
   ]
  },
  {
   "cell_type": "code",
   "execution_count": 159,
   "metadata": {
    "colab": {
     "base_uri": "https://localhost:8080/",
     "height": 312
    },
    "colab_type": "code",
    "id": "7JMLlD1EF_rO",
    "outputId": "86b856ab-d96d-4035-cc60-69f564fd743b"
   },
   "outputs": [
    {
     "data": {
      "text/plain": [
       "Text(0.5, 1.0, 'Count of PCR Results grouped by states')"
      ]
     },
     "execution_count": 159,
     "metadata": {
      "tags": []
     },
     "output_type": "execute_result"
    },
    {
     "data": {
      "image/png": "[encoded data removed]",
      "text/plain": [
       "<Figure size 432x288 with 1 Axes>"
      ]
     },
     "metadata": {
      "needs_background": "light",
      "tags": []
     },
     "output_type": "display_data"
    }
   ],
   "source": [
    "\n",
    "sns.countplot(data=df,y=\"state_updated\",hue=\"pcr\")\n",
    "plt.title(\"Count of PCR Results grouped by states\")"
   ]
  },
  {
   "cell_type": "code",
   "execution_count": 160,
   "metadata": {
    "colab": {
     "base_uri": "https://localhost:8080/",
     "height": 313
    },
    "colab_type": "code",
    "id": "cHyaxqPfZfZP",
    "outputId": "032d8815-1815-4832-f39c-c4e3b5051f73"
   },
   "outputs": [
    {
     "data": {
      "text/plain": [
       "Text(0.5, 1.0, 'Count of positive PCR grouped by states')"
      ]
     },
     "execution_count": 160,
     "metadata": {
      "tags": []
     },
     "output_type": "execute_result"
    },
    {
     "data": {
      "image/png": "[encoded data removed]",
      "text/plain": [
       "<Figure size 432x288 with 1 Axes>"
      ]
     },
     "metadata": {
      "needs_background": "light",
      "tags": []
     },
     "output_type": "display_data"
    }
   ],
   "source": [
    "sns.countplot(cases['state_updated'])\n",
    "plt.title(\"Count of positive PCR grouped by states\")"
   ]
  },
  {
   "cell_type": "markdown",
   "metadata": {
    "colab_type": "text",
    "id": "9PzMX2zzPiQU"
   },
   "source": [
    " Graphiquement on observe que le nombre de cas positifs au sein de l'état **NSW** est supérieure à celui de **NT**, mais cela s'explique par la majorité de la population répartie en **NSW**.\n",
    "\n",
    "On calcule donc le ratio de test positifs par rapport au total de cas testés par états."
   ]
  },
  {
   "cell_type": "code",
   "execution_count": 161,
   "metadata": {
    "colab": {},
    "colab_type": "code",
    "id": "7Jo9ihqtS_7B"
   },
   "outputs": [],
   "source": [
    "def test_tot(df,state):\n",
    "    return [i for i in range(len(df)) if df.loc[i,\"state_updated\"]==state]"
   ]
  },
  {
   "cell_type": "code",
   "execution_count": 162,
   "metadata": {
    "colab": {},
    "colab_type": "code",
    "id": "YhJGeS4rTIsq"
   },
   "outputs": [],
   "source": [
    "test_qld = test_tot(df,\"qld\")\n",
    "test_vic = test_tot(df,\"vic\")\n",
    "test_act = test_tot(df,\"act\")\n",
    "test_nsw = test_tot(df,\"nsw\")\n",
    "test_tas = test_tot(df,\"tas\")\n",
    "test_wa = test_tot(df,\"wa\")\n",
    "test_sa = test_tot(df,\"sa\")\n",
    "test_nt = test_tot(df,\"nt\")\n"
   ]
  },
  {
   "cell_type": "code",
   "execution_count": 163,
   "metadata": {
    "colab": {},
    "colab_type": "code",
    "id": "9NhGsMCEStOP"
   },
   "outputs": [],
   "source": [
    "def test_pos(df,test_tot):\n",
    "    return [i for i in test_tot if df.loc[i,\"pcr\"]==True]"
   ]
  },
  {
   "cell_type": "code",
   "execution_count": 164,
   "metadata": {
    "colab": {},
    "colab_type": "code",
    "id": "fB83HsSpQWN3"
   },
   "outputs": [],
   "source": [
    "test_pos_qld= test_pos(df,test_qld)\n",
    "test_pos_vic= test_pos(df,test_vic)\n",
    "test_pos_act= test_pos(df,test_act)\n",
    "test_pos_nsw = test_pos(df,test_nsw)\n",
    "test_pos_tas = test_pos(df,test_tas)\n",
    "test_pos_wa = test_pos(df,test_wa)\n",
    "test_pos_sa = test_pos(df,test_sa)\n",
    "test_pos_nt = test_pos(df,test_nt)"
   ]
  },
  {
   "cell_type": "code",
   "execution_count": 165,
   "metadata": {
    "colab": {},
    "colab_type": "code",
    "id": "ZPX_NGk6RB5f"
   },
   "outputs": [],
   "source": [
    "\n",
    "def percent(test_pos,test_tot):\n",
    "    return round((len(test_pos)/len(test_tot))*100)"
   ]
  },
  {
   "cell_type": "code",
   "execution_count": 166,
   "metadata": {
    "colab": {},
    "colab_type": "code",
    "id": "JUi3KJtrO7Fm"
   },
   "outputs": [],
   "source": [
    "percent_qld = percent(test_pos_qld,test_qld)\n",
    "percent_vic = percent(test_pos_vic,test_vic)\n",
    "percent_act = percent(test_pos_act,test_act)\n",
    "percent_nsw = percent(test_pos_nsw,test_nsw)\n",
    "percent_tas = percent(test_pos_tas,test_tas)\n",
    "percent_wa = percent(test_pos_wa,test_wa)\n",
    "percent_sa = percent(test_pos_sa,test_sa)\n",
    "percent_nt = percent(test_pos_nt,test_nt)\n"
   ]
  },
  {
   "cell_type": "code",
   "execution_count": 167,
   "metadata": {
    "colab": {
     "base_uri": "https://localhost:8080/",
     "height": 156
    },
    "colab_type": "code",
    "id": "si-tM7VhRGlB",
    "outputId": "13c3cef6-6bf2-40a6-8ed0-d7acb3c6190c"
   },
   "outputs": [
    {
     "data": {
      "text/plain": [
       "{'act': 23,\n",
       " 'nsw': 25,\n",
       " 'nt': 30,\n",
       " 'qld': 25,\n",
       " 'sa': 26,\n",
       " 'tas': 27,\n",
       " 'vic': 24,\n",
       " 'wa': 24}"
      ]
     },
     "execution_count": 167,
     "metadata": {
      "tags": []
     },
     "output_type": "execute_result"
    }
   ],
   "source": [
    "total_percen = [percent_qld,percent_vic,percent_act,percent_nsw,percent_tas,percent_wa,percent_sa,percent_nt]\n",
    "states = [\"qld\",\"vic\",\"act\",\"nsw\",\"tas\",\"wa\",\"sa\",\"nt\"]\n",
    "dict_percen = dict( zip( states, total_percen))\n",
    "dict_percen"
   ]
  },
  {
   "cell_type": "code",
   "execution_count": 168,
   "metadata": {
    "colab": {
     "base_uri": "https://localhost:8080/",
     "height": 298
    },
    "colab_type": "code",
    "id": "x049hVCEWbQU",
    "outputId": "019b1b3c-1000-4b50-a670-62096c125c72"
   },
   "outputs": [
    {
     "data": {
      "text/plain": [
       "Text(0.5, 1.0, 'Ratio of positive PCR out of all the PCR tested patients by state')"
      ]
     },
     "execution_count": 168,
     "metadata": {
      "tags": []
     },
     "output_type": "execute_result"
    },
    {
     "data": {
      "image/png": "[encoded data removed]",
      "text/plain": [
       "<Figure size 432x288 with 1 Axes>"
      ]
     },
     "metadata": {
      "needs_background": "light",
      "tags": []
     },
     "output_type": "display_data"
    }
   ],
   "source": [
    "plt.bar(dc.keys(), dict_percen.values())\n",
    "plt.title(\"Ratio of positive PCR out of all the PCR tested patients by state\")"
   ]
  },
  {
   "cell_type": "markdown",
   "metadata": {
    "colab_type": "text",
    "id": "d16R5t96ljIK"
   },
   "source": [
    "Le pourcentage dans les états **NT** et  **TAS** de cas positif sont supérieure à ceux de **NSW** malgré un nombre de patients testés inférieures. \n"
   ]
  },
  {
   "cell_type": "markdown",
   "metadata": {
    "colab_type": "text",
    "id": "NyOU1rrdX7hi"
   },
   "source": [
    "## Prévalence des cas positif au travers des âges\n"
   ]
  },
  {
   "cell_type": "code",
   "execution_count": 169,
   "metadata": {
    "colab": {
     "base_uri": "https://localhost:8080/",
     "height": 313
    },
    "colab_type": "code",
    "id": "fb1XkL09Ywaz",
    "outputId": "067b2894-3079-4fac-a758-c0fe44a37a14"
   },
   "outputs": [
    {
     "data": {
      "text/plain": [
       "Text(0.5, 1.0, \"Repartiton de l'âge des personnes testées\")"
      ]
     },
     "execution_count": 169,
     "metadata": {
      "tags": []
     },
     "output_type": "execute_result"
    },
    {
     "data": {
      "image/png": "[encoded data removed]",
      "text/plain": [
       "<Figure size 432x288 with 1 Axes>"
      ]
     },
     "metadata": {
      "needs_background": "light",
      "tags": []
     },
     "output_type": "display_data"
    }
   ],
   "source": [
    "\n",
    "sns.distplot(df['age_final'])\n",
    "plt.title(\"Repartiton de l'âge des personnes testées\")\n"
   ]
  },
  {
   "cell_type": "code",
   "execution_count": 170,
   "metadata": {
    "colab": {
     "base_uri": "https://localhost:8080/",
     "height": 313
    },
    "colab_type": "code",
    "id": "bcPvQ0z5ZOfG",
    "outputId": "c735dee7-7f6b-4710-dcf9-e4fd097b7425"
   },
   "outputs": [
    {
     "data": {
      "text/plain": [
       "Text(0.5, 1.0, \"Repartition de l'âge des cas positifs\")"
      ]
     },
     "execution_count": 170,
     "metadata": {
      "tags": []
     },
     "output_type": "execute_result"
    },
    {
     "data": {
      "image/png": "[encoded data removed]",
      "text/plain": [
       "<Figure size 432x288 with 1 Axes>"
      ]
     },
     "metadata": {
      "needs_background": "light",
      "tags": []
     },
     "output_type": "display_data"
    }
   ],
   "source": [
    "sns.distplot(cases['age_final'])\n",
    "plt.title(\"Repartition de l'âge des cas positifs\")"
   ]
  },
  {
   "cell_type": "markdown",
   "metadata": {
    "colab_type": "text",
    "id": "sBuRreJbnmWE"
   },
   "source": [
    "## Prévalence des cas positifs en fonction de l'âge et de la répartition gégographique"
   ]
  },
  {
   "cell_type": "code",
   "execution_count": 171,
   "metadata": {
    "colab": {
     "base_uri": "https://localhost:8080/",
     "height": 314
    },
    "colab_type": "code",
    "id": "9IdaWX9MfQPI",
    "outputId": "b67126d6-5d3b-41cd-b4d9-19384167857e"
   },
   "outputs": [
    {
     "data": {
      "text/plain": [
       "<seaborn.axisgrid.FacetGrid at 0x7f2f8f584c50>"
      ]
     },
     "execution_count": 171,
     "metadata": {
      "tags": []
     },
     "output_type": "execute_result"
    },
    {
     "data": {
      "image/png": "[encoded data removed]",
      "text/plain": [
       "<Figure size 1152x288 with 8 Axes>"
      ]
     },
     "metadata": {
      "needs_background": "light",
      "tags": []
     },
     "output_type": "display_data"
    }
   ],
   "source": [
    "sns.catplot(x=\"pcr\",y=\"age_final\",col=\"state_updated\",data=df,kind=\"boxen\",height=4,aspect=.5,palette=\"Blues_d\")\n"
   ]
  },
  {
   "cell_type": "markdown",
   "metadata": {
    "colab_type": "text",
    "id": "RquEaHInhrKW"
   },
   "source": [
    "On modélise par états, la répartition des âges et des résultats au test PCR.\n",
    "\n",
    "\n",
    "\n",
    "---\n",
    "\n",
    "\n",
    "La moyenne d'âge des test pour tout les états se situe autour de 70 ans. \n",
    "Seul l'état **NT** où le ratio de personnes positives sur le total de personnes testés atteint 30% à une valeur médiane de personnes positives au PCR en dessous de 60 ans. \n",
    "\n",
    "\n",
    "---\n",
    "\n",
    "\n",
    "\n",
    "---\n",
    "\n"
   ]
  },
  {
   "cell_type": "code",
   "execution_count": null,
   "metadata": {
    "colab": {},
    "colab_type": "code",
    "id": "yNUpVXzLq36Y"
   },
   "outputs": [],
   "source": []
  }
 ],
 "metadata": {
  "colab": {
   "collapsed_sections": [],
   "name": "Notebook_Final_2.ipynb",
   "provenance": []
  },
  "kernelspec": {
   "display_name": "Python 3",
   "language": "python",
   "name": "python3"
  },
  "language_info": {
   "codemirror_mode": {
    "name": "ipython",
    "version": 3
   },
   "file_extension": ".py",
   "mimetype": "text/x-python",
   "name": "python",
   "nbconvert_exporter": "python",
   "pygments_lexer": "ipython3",
   "version": "3.6.4"
  }
 },
 "nbformat": 4,
 "nbformat_minor": 1
}
